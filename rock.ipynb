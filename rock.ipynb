{
 "cells": [
  {
   "cell_type": "code",
   "execution_count": 72,
   "metadata": {
    "collapsed": true
   },
   "outputs": [],
   "source": [
    "from selenium import webdriver\n",
    "import time\n",
    "import csv\n",
    "\n",
    "#parser\n",
    "class Scrapper():\n",
    "    \n",
    "    #initialize webdriver\n",
    "    def __init__(self):\n",
    "        path = 'D:\\Programes\\geckodriver_firefox\\geckodriver.exe'        \n",
    "        self.driver = webdriver.Firefox(executable_path=path)\n",
    "    \n",
    "    #processing page with current company\n",
    "    def parse(self):\n",
    "        self.driver.get('http://www.woos.ru')\n",
    "        time.sleep(3)\n",
    "        table = self.driver.find_element_by_xpath('//table/tbody/tr/td/table[@cellpadding=\"10\"]/tbody/tr/td')\n",
    "        disk = table.find_element_by_xpath('.//table/tbody/tr/td[2]/a')\n",
    "        url = disk.get_attribute('href')\n",
    "        name = disk.text\n",
    "        \n",
    "        print(url)\n",
    "        print(name)\n"
   ]
  },
  {
   "cell_type": "code",
   "execution_count": 74,
   "metadata": {},
   "outputs": [
    {
     "name": "stdout",
     "output_type": "stream",
     "text": [
      "http://www.woos.ru/7-rasa/index.html\n",
      "7 раса\n"
     ]
    }
   ],
   "source": [
    "a = Scrapper()\n",
    "a.parse()"
   ]
  },
  {
   "cell_type": "code",
   "execution_count": 103,
   "metadata": {},
   "outputs": [],
   "source": [
    "from selenium import webdriver\n",
    "import time\n",
    "import csv\n",
    "import itertools\n",
    "\n",
    "#parser\n",
    "class Scrapper():\n",
    "    \n",
    "    #initialize webdriver\n",
    "    def __init__(self):\n",
    "        path = 'D:\\Programes\\geckodriver_firefox\\geckodriver.exe'        \n",
    "        self.driver = webdriver.Firefox(executable_path=path)\n",
    "    \n",
    "    def get_song(self, url_song, year):\n",
    "        self.driver.get(url_song)\n",
    "        time.sleep(1)\n",
    "        try:\n",
    "            table = self.driver.find_element_by_xpath('//table/tbody/tr/td/table[@cellpadding=\"10\"]/tbody/tr/td')\n",
    "            song_author = table.find_element_by_xpath('.//table[1]/tbody/tr/td[@class=\"h3\"]').text\n",
    "            song_album = table.find_element_by_xpath('.//table[2]/tbody/tr/td[@class=\"h2\"]').text\n",
    "            song_name = table.find_element_by_xpath('.//h1').text\n",
    "            song_text = table.find_element_by_xpath('.//font').text\n",
    "        except:\n",
    "            print(\"problem with a song\")\n",
    "            return []\n",
    "        \n",
    "        res = [song_author, song_album, year, song_name, song_text]\n",
    "        return res\n",
    "    \n",
    "    def get_songs(self, url_songs, year):\n",
    "        self.driver.get(url_songs)\n",
    "        time.sleep(1)\n",
    "        pattern = \"http://www.woos.ru/images/cass1.gif\"\n",
    "        \n",
    "        table = self.driver.find_element_by_xpath('//table/tbody/tr/td/table[@cellpadding=\"10\"]/tbody/tr/td')\n",
    "        songs = table.find_elements_by_xpath('.//table[3]/tbody/tr')\n",
    "        base_songs = dict()\n",
    "        for song in songs:\n",
    "            try:\n",
    "                logo = song.find_element_by_xpath('.//td[2]/img').get_attribute('src')\n",
    "                \n",
    "                if logo == pattern:\n",
    "                    continue\n",
    "                song_info = song.find_element_by_xpath('.//td[3]/a')\n",
    "                url = song_info.get_attribute('href')\n",
    "                name = song_info.text\n",
    "                base_songs[name] = url\n",
    "            except:\n",
    "                print(\"problem with the songs\")\n",
    "        res = []\n",
    "        for song in base_songs:\n",
    "            l = self.get_song(base_songs[song], year)\n",
    "            res.append(l)\n",
    "\n",
    "        return res\n",
    "    \n",
    "    def get_albums(self, url_albums):\n",
    "        self.driver.get(url_albums)\n",
    "        time.sleep(1)\n",
    "        \n",
    "        table = self.driver.find_element_by_xpath('//table/tbody/tr/td/table[@cellpadding=\"10\"]/tbody/tr/td')\n",
    "        albums = table.find_elements_by_xpath('.//table[3]/tbody/tr')\n",
    "        base_albums = dict()\n",
    "        for album in albums:\n",
    "            try:\n",
    "                album_info = album.find_element_by_xpath('.//td[3]/a')\n",
    "                url = album.find_element_by_xpath('.//td[3]/a').get_attribute('href')\n",
    "                name = album.find_element_by_xpath('.//td[3]').text\n",
    "                base_albums[name] = url\n",
    "            except:\n",
    "                print(\"problem with an album\")\n",
    "        res = []\n",
    "        for album in base_albums:\n",
    "            l = self.get_songs(base_albums[album], int(album.rstrip()[-5:-1]))\n",
    "            res.append(l)\n",
    "        return list(itertools.chain.from_iterable(res))\n",
    "            \n",
    "    \n",
    "    #processing page with current company\n",
    "    def parse(self):\n",
    "        self.driver.get('http://www.woos.ru')\n",
    "        time.sleep(1)\n",
    "        table = self.driver.find_element_by_xpath('//table/tbody/tr/td/table[@cellpadding=\"10\"]/tbody/tr/td')\n",
    "        groups = table.find_elements_by_xpath('./table/tbody/tr')\n",
    "        base_groups = dict()\n",
    "        for group in groups:\n",
    "            try:\n",
    "                groups_info = group.find_elements_by_xpath('.//td[2]/a')\n",
    "                for group_info in groups_info:\n",
    "                    url = group_info.get_attribute('href')\n",
    "                    name = group_info.text\n",
    "                    base_groups[name] = url\n",
    "            except:\n",
    "                print(\"problem with a group\")\n",
    "           \n",
    "        print(len(base_groups))\n",
    "        res = [['singer', 'album', 'album_year', 'song_name', 'song_text']]\n",
    "        for group in base_groups:\n",
    "            l = self.get_albums(base_groups[group])\n",
    "            for line in l:\n",
    "                res.append(line)\n",
    "            \n",
    "        \n",
    "        #Запись данных в файл .csv    \n",
    "        with open('output.csv', 'w', newline='') as csvfile:\n",
    "            writer = csv.writer(csvfile, delimiter='|', )\n",
    "            for line in res:\n",
    "                try:\n",
    "                    writer.writerow(line)\n",
    "                except:\n",
    "                    pass\n",
    "                \n",
    "    def parse1(self):\n",
    "        l = self.get_songs(r'http://www.woos.ru/smyslovye-gallyucinacii/02/index.html', 1997)\n",
    "        print(l)"
   ]
  },
  {
   "cell_type": "code",
   "execution_count": 104,
   "metadata": {},
   "outputs": [
    {
     "name": "stdout",
     "output_type": "stream",
     "text": [
      "130\n"
     ]
    }
   ],
   "source": [
    "a = Scrapper()\n",
    "a.parse()"
   ]
  },
  {
   "cell_type": "code",
   "execution_count": 107,
   "metadata": {},
   "outputs": [
    {
     "data": {
      "text/plain": [
       "[1, 2, 3, 4, [5, 6]]"
      ]
     },
     "execution_count": 107,
     "metadata": {},
     "output_type": "execute_result"
    }
   ],
   "source": [
    "list(itertools.chain.from_iterable([[1,2],[3,4, [5,6]]]))"
   ]
  },
  {
   "cell_type": "code",
   "execution_count": 105,
   "metadata": {},
   "outputs": [
    {
     "data": {
      "text/plain": [
       "[['singer1', 'album1', 'year1', 'song_name1', 'text_song1'],\n",
       " ['singer2', 'album2', 'year2', 'song_name2', 'text_song2']]"
      ]
     },
     "execution_count": 105,
     "metadata": {},
     "output_type": "execute_result"
    }
   ],
   "source": [
    "[['singer1', 'album1', 'year1', 'song_name1', 'text_song1'], ['singer2', 'album2', 'year2', 'song_name2', 'text_song2'], ]"
   ]
  },
  {
   "cell_type": "code",
   "execution_count": null,
   "metadata": {
    "collapsed": true
   },
   "outputs": [],
   "source": []
  }
 ],
 "metadata": {
  "kernelspec": {
   "display_name": "Python 3",
   "language": "python",
   "name": "python3"
  },
  "language_info": {
   "codemirror_mode": {
    "name": "ipython",
    "version": 3
   },
   "file_extension": ".py",
   "mimetype": "text/x-python",
   "name": "python",
   "nbconvert_exporter": "python",
   "pygments_lexer": "ipython3",
   "version": "3.6.2"
  }
 },
 "nbformat": 4,
 "nbformat_minor": 2
}
